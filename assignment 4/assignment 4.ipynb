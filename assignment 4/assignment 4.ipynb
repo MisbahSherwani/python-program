{
 "cells": [
  {
   "cell_type": "code",
   "execution_count": 1,
   "id": "c62f995c",
   "metadata": {},
   "outputs": [
    {
     "name": "stdout",
     "output_type": "stream",
     "text": [
      "Select operation.\n",
      "1.Add\n",
      "2.Subtract\n",
      "3.Multiply\n",
      "4.Divide\n",
      "5.Power\n",
      "Enter choice(1/2/3/4/5): 4\n",
      "Enter first number: 12\n",
      "Enter second number: 2\n",
      "12.0 / 2.0 = 6.0\n",
      "let's do next calculation? (yes/no): no\n"
     ]
    }
   ],
   "source": [
    "# MAKE A CALCULATOR USING PYTHON WITH ADDITION,SUBTRACTION, MULTIPLICATION, DIVISION AND POWER\n",
    "def add(x, y):\n",
    "    return x + y\n",
    "def subtract(x, y):\n",
    "    return x - y\n",
    "def multiply(x, y):\n",
    "    return x * y\n",
    "def divide(x, y):\n",
    "    return x / y\n",
    "def power(x, y):\n",
    "    return x ** y\n",
    "print(\"Select operation.\")\n",
    "print(\"1.Add\")\n",
    "print(\"2.Subtract\")\n",
    "print(\"3.Multiply\")\n",
    "print(\"4.Divide\")\n",
    "print(\"5.Power\")\n",
    "\n",
    "while True:\n",
    "    # take input from the user\n",
    "    choice = input(\"Enter choice(1/2/3/4/5): \")\n",
    "    \n",
    "    # check if choice is one of the four options\n",
    "    if choice in ('1', '2', '3', '4', '5'):\n",
    "        num1 = float(input(\"Enter first number: \"))\n",
    "        num2 = float(input(\"Enter second number: \"))\n",
    "        \n",
    "        if choice == '1':\n",
    "            print(num1, \"+\", num2, \"=\", add(num1, num2))\n",
    "        elif choice == '2':\n",
    "            print(num1, \"-\", num2, \"=\", subtract(num1, num2))\n",
    "        elif choice == '3':\n",
    "            print(num1, \"*\", num2, \"=\", multiply(num1, num2))\n",
    "        elif choice == '4':\n",
    "            print(num1, \"/\", num2, \"=\", divide(num1, num2))\n",
    "        elif choice == '5':\n",
    "            print(num1, \"**\", num2, \"=\", power(num1, num2))\n",
    "        # check if user wants another calculation\n",
    "        # break the while loop if answer is no\n",
    "        next_calculation = input(\"let's do next calculation? (yes/no): \")\n",
    "        if next_calculation == \"no\":\n",
    "            break\n",
    "    else:\n",
    "        print(\"Invalid Input\")"
   ]
  },
  {
   "cell_type": "code",
   "execution_count": 3,
   "id": "dc76846e",
   "metadata": {},
   "outputs": [
    {
     "name": "stdout",
     "output_type": "stream",
     "text": [
      "checking if 3 exists in list ( using loop ) : \n",
      "Element Exists\n",
      "Checking if 3 exists in list ( using in ) : \n",
      "Element Exists\n"
     ]
    }
   ],
   "source": [
    "# Write a program to check if there is any numeric value in list using for loop.\n",
    "\n",
    "# Initializing list\n",
    "test_list = [ 1, 7, 2, 3, 9, 8 ]\n",
    "print(\"checking if 3 exists in list ( using loop ) : \")\n",
    "\n",
    "# using loop checking if 3 exists in list\n",
    "for i in test_list:\n",
    "    if(i == 3) :\n",
    "        print(\"Element Exists\")\n",
    "print(\"Checking if 3 exists in list ( using in ) : \")\n",
    "\n",
    "# Checking if 3 exists in list using in\n",
    "if (3 in test_list):\n",
    "    print(\"Element Exists\")"
   ]
  },
  {
   "cell_type": "code",
   "execution_count": 9,
   "id": "2fc468f0",
   "metadata": {},
   "outputs": [
    {
     "name": "stdout",
     "output_type": "stream",
     "text": [
      "{'key1': 'book', 'key2': 'novel'}\n",
      "{'key1': 'book', 'key2': 'novel', 'key3': 'fire'}\n"
     ]
    }
   ],
   "source": [
    "# Write a python script to add a key to a dictionary.\n",
    "d = {'key1':'book', 'key2':'novel'}\n",
    "print(d)\n",
    "d.update({'key3':'fire'})\n",
    "print(d)"
   ]
  },
  {
   "cell_type": "code",
   "execution_count": 10,
   "id": "9d843866",
   "metadata": {},
   "outputs": [
    {
     "name": "stdout",
     "output_type": "stream",
     "text": [
      "Sum : 230\n"
     ]
    }
   ],
   "source": [
    "# Write a python program to sum all the numeric items in a dictionary.\n",
    "\n",
    "#Function to print sum\n",
    "def returnSum(myDict):\n",
    "    \n",
    "    list = []\n",
    "    for i in myDict:\n",
    "        list.append(myDict[i])\n",
    "    final = sum(list)\n",
    "    \n",
    "    return final\n",
    "\n",
    "# Driver Function\n",
    "dict = {'a': 100, 'b':32, 'c':98}\n",
    "print(\"Sum :\", returnSum(dict))"
   ]
  },
  {
   "cell_type": "code",
   "execution_count": 11,
   "id": "d8c3bb4c",
   "metadata": {},
   "outputs": [
    {
     "name": "stdout",
     "output_type": "stream",
     "text": [
      "[10, -32, 98, 29]\n"
     ]
    }
   ],
   "source": [
    "# Write a program to identify duplicate values from list.\n",
    "def Repeat(x):\n",
    "    _size = len(x)\n",
    "    repeated = []\n",
    "    for i in range(_size):\n",
    "        k = i + 1\n",
    "        for j in range(k, _size):\n",
    "             if x[i] == x[j] and x[i] not in repeated:\n",
    "                    repeated.append(x[i])\n",
    "    return repeated\n",
    "list1 = [10, 20, -32, 98, 89, -23, 32, -32, 98, 80, 10, 29, 30, 90, 29, 40]\n",
    "print (Repeat(list1))"
   ]
  },
  {
   "cell_type": "code",
   "execution_count": 12,
   "id": "26bec336",
   "metadata": {},
   "outputs": [
    {
     "name": "stdout",
     "output_type": "stream",
     "text": [
      "Key is present in the dictionary\n",
      "Key is not present in the dictionary\n"
     ]
    }
   ],
   "source": [
    "# Write a Python script to check if a given key already exists in a dictionary.\n",
    "d = {1: 10, 2:20, 3:30, 4:40, 5:50, 6:60}\n",
    "def is_key_present(x):\n",
    "    if x in d:\n",
    "        print('Key is present in the dictionary')\n",
    "    else:\n",
    "        print('Key is not present in the dictionary')\n",
    "is_key_present(3)\n",
    "is_key_present(9)"
   ]
  },
  {
   "cell_type": "code",
   "execution_count": null,
   "id": "0efc6787",
   "metadata": {},
   "outputs": [],
   "source": []
  }
 ],
 "metadata": {
  "kernelspec": {
   "display_name": "Python 3",
   "language": "python",
   "name": "python3"
  },
  "language_info": {
   "codemirror_mode": {
    "name": "ipython",
    "version": 3
   },
   "file_extension": ".py",
   "mimetype": "text/x-python",
   "name": "python",
   "nbconvert_exporter": "python",
   "pygments_lexer": "ipython3",
   "version": "3.8.8"
  }
 },
 "nbformat": 4,
 "nbformat_minor": 5
}
